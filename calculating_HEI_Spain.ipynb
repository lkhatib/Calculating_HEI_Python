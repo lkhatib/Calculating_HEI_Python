{
 "cells": [
  {
   "cell_type": "code",
   "execution_count": 118,
   "id": "9cffb56a-a923-4c7e-ac74-e77255aa31dd",
   "metadata": {},
   "outputs": [],
   "source": [
    "import pandas as pd\n",
    "import numpy as np\n",
    "from HEI_2015_Scoring import hei2015"
   ]
  },
  {
   "cell_type": "code",
   "execution_count": 119,
   "id": "906a3891-34fa-45ed-a59f-81247bf1d686",
   "metadata": {},
   "outputs": [],
   "source": [
    "#load and clean FFQ data\n",
    "spain_data = pd.read_excel('/projects/thdmi/metadata/nutrient_ffq_data/Spain FFQ wt corrected gr of food.xlsx', index_col=0)\n",
    "spain_data.drop(columns=['Columna1'], inplace=True)\n",
    "spain_data.index = ['10317.' + i for i in spain_data.index]\n",
    "spain_data.columns = [c.strip() for c in spain_data.columns]\n",
    "# upload metadata\n",
    "md = pd.read_csv('/home/lakhatib/thdmi/pangenome_filtered/data/thdmi_metadata_valid_covariates.tsv', sep = '\\t', index_col=0, low_memory=False)\n",
    "spain_data = spain_data.loc[spain_data.index.intersection(md.index)]"
   ]
  },
  {
   "cell_type": "code",
   "execution_count": 120,
   "id": "e0793efd-5ea3-454b-92b2-af3e0f7edc40",
   "metadata": {},
   "outputs": [],
   "source": [
    "#Load and clean nutrient data\n",
    "spain_nutrients = pd.read_excel('/projects/thdmi/metadata/nutrient_ffq_data/spain_nutrients.xlsx', index_col=0)\n",
    "spain_nutrients.index = ['10317.' + i for i in spain_nutrients.index]\n",
    "spain_nutrients.columns = [c.strip() for c in spain_nutrients.columns]\n",
    "spain_nutrients = spain_nutrients.loc[spain_nutrients.index.intersection(md.index)]"
   ]
  },
  {
   "cell_type": "code",
   "execution_count": 121,
   "id": "fe4cc711-c277-46f7-ab8e-1c6d87c6a870",
   "metadata": {},
   "outputs": [],
   "source": [
    "#Load and MPED Conversions\n",
    "MPED_conversions = pd.read_excel('/home/lakhatib/thdmi/pangenome_filtered/data/HEI2015- Spain.xlsx', sheet_name=2)\n",
    "MPED_conversions.columns = [c.strip() for c in MPED_conversions.columns]\n",
    "mped_mapping = MPED_conversions.set_index('Food item (FFQ Spain)').filter(like='MPED_')\n",
    "mped_mapping.index = [c.strip() for c in mped_mapping.index]"
   ]
  },
  {
   "cell_type": "code",
   "execution_count": 122,
   "id": "16596864-b6f9-4fed-b6e3-71de2bc17a0c",
   "metadata": {},
   "outputs": [],
   "source": [
    "#Convert values from 100 grams to 1 gram\n",
    "mped_mapping = mped_mapping / 100"
   ]
  },
  {
   "cell_type": "code",
   "execution_count": 123,
   "id": "cebfc7d7-8ce1-458a-acef-82199a77ff36",
   "metadata": {},
   "outputs": [],
   "source": [
    "#Align MPED mappings with Spain data and filter foods\n",
    "common_foods = spain_data.columns.intersection(mped_mapping.index)\n",
    "spain_data_filtered = spain_data[common_foods]\n",
    "mped_mapping_filtered = mped_mapping.loc[common_foods]"
   ]
  },
  {
   "cell_type": "code",
   "execution_count": 124,
   "id": "94e2c77d-4ea4-4cde-b7aa-c6e9268ab521",
   "metadata": {},
   "outputs": [],
   "source": [
    "#Ensure numeric values \n",
    "spain_data_filtered = spain_data_filtered.apply(pd.to_numeric, errors='coerce')\n",
    "mped_mapping_filtered = mped_mapping_filtered.apply(pd.to_numeric, errors='coerce')\n",
    "\n",
    "# Convert dataframes to NumPy arrays\n",
    "mped_mapping_array = mped_mapping_filtered.values  # Shape: (n_foods, n_components)\n",
    "spain_data_array = spain_data_filtered.values  # Shape: (n_participants, n_foods)\n",
    "\n",
    "# Perform matrix multiplication\n",
    "mped_scores = np.dot(spain_data_array, mped_mapping_array)\n",
    "\n",
    "# Create a DataFrame with participants as rows and MPED components as columns\n",
    "mped_df = pd.DataFrame(mped_scores, \n",
    "                              index=spain_data_filtered.index, \n",
    "                              columns=mped_mapping_filtered.columns)"
   ]
  },
  {
   "cell_type": "code",
   "execution_count": 125,
   "id": "fe841689-ecde-47f0-aa3c-b6f7963c46da",
   "metadata": {},
   "outputs": [],
   "source": [
    "spain_data_filtered = spain_data_filtered.replace(np.nan, 0)"
   ]
  },
  {
   "cell_type": "code",
   "execution_count": 126,
   "id": "cb54829d-c77d-49d6-bbeb-57fac6c31bbe",
   "metadata": {},
   "outputs": [],
   "source": [
    "#Add nutrient information to dataframe\n",
    "mped_df[spain_nutrients.columns] = spain_nutrients[spain_nutrients.columns]"
   ]
  },
  {
   "cell_type": "code",
   "execution_count": 127,
   "id": "0348c39c-cd90-4a88-a003-8269685e88b7",
   "metadata": {},
   "outputs": [],
   "source": [
    "# Calculate monopoly (sum of monounsaturated and polyunsaturated fats)\n",
    "mped_df['monopoly'] = mped_df['Monounsaturated fats (MUFA) (g)'] + mped_df['Polyunsaturated fats (PUFA) (g)']"
   ]
  },
  {
   "cell_type": "code",
   "execution_count": 128,
   "id": "605e46c5-d3de-4dbd-b748-f6f19606be30",
   "metadata": {},
   "outputs": [],
   "source": [
    "# Combine vegetable intake with legumes\n",
    "mped_df['VTOTALLEG'] = mped_df['MPED_V_TOTAL'] + mped_df['MPED_V_LEGUMES']\n",
    "mped_df['VDRKGRLEG'] = mped_df['MPED_V_DRKGR'] + mped_df['MPED_V_LEGUMES']"
   ]
  },
  {
   "cell_type": "code",
   "execution_count": 129,
   "id": "cc18738f-926e-4cb6-9248-d03f827ef243",
   "metadata": {},
   "outputs": [],
   "source": [
    "# Convert cup equivalents of legumes to ounce equivalents\n",
    "mped_df['protlegumes'] = mped_df['MPED_V_LEGUMES'] * 4"
   ]
  },
  {
   "cell_type": "code",
   "execution_count": 130,
   "id": "5c913267-0f85-4ce2-bac8-cdb2448c2c7c",
   "metadata": {},
   "outputs": [],
   "source": [
    "# Calculate total protein intake from various sources\n",
    "mped_df['PFALLPROTLEG'] = (\n",
    "    mped_df['MPED_PF_TOTAL'] + mped_df['protlegumes']\n",
    ")\n",
    "mped_df['PFSEAPLANTLEG'] = (\n",
    "    mped_df['MPED_PF_SEAFD_HI'] + mped_df['MPED_PF_SEAFD_LOW'] + \n",
    "    mped_df['MPED_PF_SOY'] + mped_df['MPED_PF_NUTSDS'] + mped_df['protlegumes']\n",
    ")"
   ]
  },
  {
   "cell_type": "code",
   "execution_count": 131,
   "id": "cb36a6f3-872f-4e45-b48c-fcd6f567556b",
   "metadata": {},
   "outputs": [],
   "source": [
    "#calculate HEI\n",
    "\n",
    "hei_mped_df = hei2015(mped_df, mped_df['Energy(Kcal)'], mped_df['VTOTALLEG'], mped_df['VDRKGRLEG'], mped_df['MPED_F_TOTAL'], mped_df['MPED_F_CITMLB'], mped_df['MPED_G_WHOLE'], \n",
    "                 mped_df['MPED_D_TOTAL'], mped_df['PFALLPROTLEG'], mped_df['PFSEAPLANTLEG'], mped_df['monopoly'], mped_df['Saturated fats (SFA) (g)'], \n",
    "                 mped_df['Sodium (mg)'], mped_df['MPED_G_REFINED'], mped_df['MPED_ADD_SUGARS'])"
   ]
  },
  {
   "cell_type": "code",
   "execution_count": 132,
   "id": "57dd26e0-2553-48de-91e6-786155b8412c",
   "metadata": {},
   "outputs": [],
   "source": [
    "hei_df = hei_mped_df.filter(like='HEI')"
   ]
  },
  {
   "cell_type": "code",
   "execution_count": 133,
   "id": "99f32691-0c0c-4e61-830f-aa84e224a2fd",
   "metadata": {},
   "outputs": [
    {
     "data": {
      "text/html": [
       "<div>\n",
       "<style scoped>\n",
       "    .dataframe tbody tr th:only-of-type {\n",
       "        vertical-align: middle;\n",
       "    }\n",
       "\n",
       "    .dataframe tbody tr th {\n",
       "        vertical-align: top;\n",
       "    }\n",
       "\n",
       "    .dataframe thead th {\n",
       "        text-align: right;\n",
       "    }\n",
       "</style>\n",
       "<table border=\"1\" class=\"dataframe\">\n",
       "  <thead>\n",
       "    <tr style=\"text-align: right;\">\n",
       "      <th></th>\n",
       "      <th>HEI2015C1_TOTALVEG</th>\n",
       "      <th>HEI2015C2_GREEN_AND_BEAN</th>\n",
       "      <th>HEI2015C3_TOTALFRUIT</th>\n",
       "      <th>HEI2015C4_WHOLEFRUIT</th>\n",
       "      <th>HEI2015C5_WHOLEGRAIN</th>\n",
       "      <th>HEI2015C6_TOTALDAIRY</th>\n",
       "      <th>HEI2015C7_TOTPROT</th>\n",
       "      <th>HEI2015C8_SEAPLANT_PROT</th>\n",
       "      <th>HEI2015C9_FATTYACID</th>\n",
       "      <th>HEI2015C10_SODIUM</th>\n",
       "      <th>HEI2015C11_REFINEDGRAIN</th>\n",
       "      <th>HEI2015C12_SFAT</th>\n",
       "      <th>HEI2015C13_ADDSUG</th>\n",
       "      <th>HEI2015_TOTAL_SCORE</th>\n",
       "    </tr>\n",
       "  </thead>\n",
       "  <tbody>\n",
       "    <tr>\n",
       "      <th>count</th>\n",
       "      <td>427.000000</td>\n",
       "      <td>427.000000</td>\n",
       "      <td>427.000000</td>\n",
       "      <td>427.000000</td>\n",
       "      <td>427.000000</td>\n",
       "      <td>427.000000</td>\n",
       "      <td>427.000000</td>\n",
       "      <td>427.000000</td>\n",
       "      <td>428.000000</td>\n",
       "      <td>428.000000</td>\n",
       "      <td>427.000000</td>\n",
       "      <td>428.000000</td>\n",
       "      <td>427.000000</td>\n",
       "      <td>428.000000</td>\n",
       "    </tr>\n",
       "    <tr>\n",
       "      <th>mean</th>\n",
       "      <td>4.886380</td>\n",
       "      <td>4.764228</td>\n",
       "      <td>4.017631</td>\n",
       "      <td>2.821210</td>\n",
       "      <td>3.187920</td>\n",
       "      <td>5.359959</td>\n",
       "      <td>4.944333</td>\n",
       "      <td>4.948410</td>\n",
       "      <td>8.022321</td>\n",
       "      <td>7.298522</td>\n",
       "      <td>9.794848</td>\n",
       "      <td>4.936393</td>\n",
       "      <td>9.729837</td>\n",
       "      <td>74.584760</td>\n",
       "    </tr>\n",
       "    <tr>\n",
       "      <th>std</th>\n",
       "      <td>0.445357</td>\n",
       "      <td>0.819769</td>\n",
       "      <td>1.408075</td>\n",
       "      <td>1.743460</td>\n",
       "      <td>2.965238</td>\n",
       "      <td>3.056231</td>\n",
       "      <td>0.393579</td>\n",
       "      <td>0.416267</td>\n",
       "      <td>2.447814</td>\n",
       "      <td>2.820894</td>\n",
       "      <td>1.013749</td>\n",
       "      <td>2.822238</td>\n",
       "      <td>0.822033</td>\n",
       "      <td>8.622239</td>\n",
       "    </tr>\n",
       "    <tr>\n",
       "      <th>min</th>\n",
       "      <td>1.053009</td>\n",
       "      <td>0.010053</td>\n",
       "      <td>0.030630</td>\n",
       "      <td>0.000000</td>\n",
       "      <td>0.000000</td>\n",
       "      <td>0.000000</td>\n",
       "      <td>0.440174</td>\n",
       "      <td>0.581168</td>\n",
       "      <td>0.000000</td>\n",
       "      <td>0.000000</td>\n",
       "      <td>0.000000</td>\n",
       "      <td>0.000000</td>\n",
       "      <td>2.062523</td>\n",
       "      <td>28.749742</td>\n",
       "    </tr>\n",
       "    <tr>\n",
       "      <th>25%</th>\n",
       "      <td>5.000000</td>\n",
       "      <td>5.000000</td>\n",
       "      <td>3.157896</td>\n",
       "      <td>1.250432</td>\n",
       "      <td>0.738175</td>\n",
       "      <td>2.986587</td>\n",
       "      <td>5.000000</td>\n",
       "      <td>5.000000</td>\n",
       "      <td>6.461602</td>\n",
       "      <td>5.738591</td>\n",
       "      <td>10.000000</td>\n",
       "      <td>2.879589</td>\n",
       "      <td>10.000000</td>\n",
       "      <td>69.360841</td>\n",
       "    </tr>\n",
       "    <tr>\n",
       "      <th>50%</th>\n",
       "      <td>5.000000</td>\n",
       "      <td>5.000000</td>\n",
       "      <td>5.000000</td>\n",
       "      <td>2.701318</td>\n",
       "      <td>2.195305</td>\n",
       "      <td>5.305545</td>\n",
       "      <td>5.000000</td>\n",
       "      <td>5.000000</td>\n",
       "      <td>9.379448</td>\n",
       "      <td>8.008762</td>\n",
       "      <td>10.000000</td>\n",
       "      <td>4.756087</td>\n",
       "      <td>10.000000</td>\n",
       "      <td>75.661624</td>\n",
       "    </tr>\n",
       "    <tr>\n",
       "      <th>75%</th>\n",
       "      <td>5.000000</td>\n",
       "      <td>5.000000</td>\n",
       "      <td>5.000000</td>\n",
       "      <td>5.000000</td>\n",
       "      <td>5.239653</td>\n",
       "      <td>7.652704</td>\n",
       "      <td>5.000000</td>\n",
       "      <td>5.000000</td>\n",
       "      <td>10.000000</td>\n",
       "      <td>10.000000</td>\n",
       "      <td>10.000000</td>\n",
       "      <td>6.854984</td>\n",
       "      <td>10.000000</td>\n",
       "      <td>80.781362</td>\n",
       "    </tr>\n",
       "    <tr>\n",
       "      <th>max</th>\n",
       "      <td>5.000000</td>\n",
       "      <td>5.000000</td>\n",
       "      <td>5.000000</td>\n",
       "      <td>5.000000</td>\n",
       "      <td>10.000000</td>\n",
       "      <td>10.000000</td>\n",
       "      <td>5.000000</td>\n",
       "      <td>5.000000</td>\n",
       "      <td>10.000000</td>\n",
       "      <td>10.000000</td>\n",
       "      <td>10.000000</td>\n",
       "      <td>10.000000</td>\n",
       "      <td>10.000000</td>\n",
       "      <td>93.500124</td>\n",
       "    </tr>\n",
       "  </tbody>\n",
       "</table>\n",
       "</div>"
      ],
      "text/plain": [
       "       HEI2015C1_TOTALVEG  HEI2015C2_GREEN_AND_BEAN  HEI2015C3_TOTALFRUIT  \\\n",
       "count          427.000000                427.000000            427.000000   \n",
       "mean             4.886380                  4.764228              4.017631   \n",
       "std              0.445357                  0.819769              1.408075   \n",
       "min              1.053009                  0.010053              0.030630   \n",
       "25%              5.000000                  5.000000              3.157896   \n",
       "50%              5.000000                  5.000000              5.000000   \n",
       "75%              5.000000                  5.000000              5.000000   \n",
       "max              5.000000                  5.000000              5.000000   \n",
       "\n",
       "       HEI2015C4_WHOLEFRUIT  HEI2015C5_WHOLEGRAIN  HEI2015C6_TOTALDAIRY  \\\n",
       "count            427.000000            427.000000            427.000000   \n",
       "mean               2.821210              3.187920              5.359959   \n",
       "std                1.743460              2.965238              3.056231   \n",
       "min                0.000000              0.000000              0.000000   \n",
       "25%                1.250432              0.738175              2.986587   \n",
       "50%                2.701318              2.195305              5.305545   \n",
       "75%                5.000000              5.239653              7.652704   \n",
       "max                5.000000             10.000000             10.000000   \n",
       "\n",
       "       HEI2015C7_TOTPROT  HEI2015C8_SEAPLANT_PROT  HEI2015C9_FATTYACID  \\\n",
       "count         427.000000               427.000000           428.000000   \n",
       "mean            4.944333                 4.948410             8.022321   \n",
       "std             0.393579                 0.416267             2.447814   \n",
       "min             0.440174                 0.581168             0.000000   \n",
       "25%             5.000000                 5.000000             6.461602   \n",
       "50%             5.000000                 5.000000             9.379448   \n",
       "75%             5.000000                 5.000000            10.000000   \n",
       "max             5.000000                 5.000000            10.000000   \n",
       "\n",
       "       HEI2015C10_SODIUM  HEI2015C11_REFINEDGRAIN  HEI2015C12_SFAT  \\\n",
       "count         428.000000               427.000000       428.000000   \n",
       "mean            7.298522                 9.794848         4.936393   \n",
       "std             2.820894                 1.013749         2.822238   \n",
       "min             0.000000                 0.000000         0.000000   \n",
       "25%             5.738591                10.000000         2.879589   \n",
       "50%             8.008762                10.000000         4.756087   \n",
       "75%            10.000000                10.000000         6.854984   \n",
       "max            10.000000                10.000000        10.000000   \n",
       "\n",
       "       HEI2015C13_ADDSUG  HEI2015_TOTAL_SCORE  \n",
       "count         427.000000           428.000000  \n",
       "mean            9.729837            74.584760  \n",
       "std             0.822033             8.622239  \n",
       "min             2.062523            28.749742  \n",
       "25%            10.000000            69.360841  \n",
       "50%            10.000000            75.661624  \n",
       "75%            10.000000            80.781362  \n",
       "max            10.000000            93.500124  "
      ]
     },
     "execution_count": 133,
     "metadata": {},
     "output_type": "execute_result"
    }
   ],
   "source": [
    "hei_df.describe()"
   ]
  },
  {
   "cell_type": "code",
   "execution_count": 136,
   "id": "79e679e2-a12f-4e20-a848-24b635434709",
   "metadata": {},
   "outputs": [],
   "source": [
    "hei_df = hei_df.drop(index=['10317.DM2898999'])"
   ]
  },
  {
   "cell_type": "code",
   "execution_count": 137,
   "id": "2a7b4dd2-3d51-4f70-8580-c2272054b8ee",
   "metadata": {},
   "outputs": [
    {
     "data": {
      "text/plain": [
       "count    427.000000\n",
       "mean      74.692102\n",
       "std        8.341128\n",
       "min       38.849027\n",
       "25%       69.409830\n",
       "50%       75.674456\n",
       "75%       80.784713\n",
       "max       93.500124\n",
       "Name: HEI2015_TOTAL_SCORE, dtype: float64"
      ]
     },
     "execution_count": 137,
     "metadata": {},
     "output_type": "execute_result"
    }
   ],
   "source": [
    "hei_df['HEI2015_TOTAL_SCORE'].describe()"
   ]
  },
  {
   "cell_type": "code",
   "execution_count": 139,
   "id": "4e3ff4e6-fc12-4b30-9fd5-e08024083fed",
   "metadata": {},
   "outputs": [],
   "source": [
    "hei_df.to_csv('/home/lakhatib/thdmi/pangenome_filtered/data/spain_HEI_df.csv')"
   ]
  },
  {
   "cell_type": "code",
   "execution_count": null,
   "id": "da9cfad3-aa03-4732-a54c-bfed5a8bd6c1",
   "metadata": {},
   "outputs": [],
   "source": []
  }
 ],
 "metadata": {
  "kernelspec": {
   "display_name": "TESTING_qiime2-2023.5",
   "language": "python",
   "name": "testing_2023.5"
  },
  "language_info": {
   "codemirror_mode": {
    "name": "ipython",
    "version": 3
   },
   "file_extension": ".py",
   "mimetype": "text/x-python",
   "name": "python",
   "nbconvert_exporter": "python",
   "pygments_lexer": "ipython3",
   "version": "3.8.16"
  }
 },
 "nbformat": 4,
 "nbformat_minor": 5
}
